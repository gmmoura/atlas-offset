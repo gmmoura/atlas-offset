{
 "cells": [
  {
   "cell_type": "code",
   "execution_count": 16,
   "id": "ea19bef0",
   "metadata": {},
   "outputs": [],
   "source": [
    "\n",
    "import ntplib\n",
    "from time import ctime\n",
    "\n",
    "\n",
    "def get_ntp_offset(server):\n",
    "    client = ntplib.NTPClient()\n",
    "    try:\n",
    "        response = client.request(server, version=3)\n",
    "        print(f\"Time from server: {ctime(response.tx_time)}\")\n",
    "        print(f\"Offset: {response.offset} seconds\")\n",
    "        return response.offset\n",
    "    except Exception as e:\n",
    "        print(f\"Failed to get NTP response: {e}\")\n",
    "        return None\n",
    "\n"
   ]
  },
  {
   "cell_type": "code",
   "execution_count": 17,
   "id": "b5413da1",
   "metadata": {},
   "outputs": [
    {
     "name": "stdout",
     "output_type": "stream",
     "text": [
      "Time from server: Mon Jul  7 15:55:24 2025\n",
      "Offset: -71.56516075134277 seconds\n"
     ]
    },
    {
     "data": {
      "text/plain": [
       "-71.56516075134277"
      ]
     },
     "execution_count": 17,
     "metadata": {},
     "output_type": "execute_result"
    }
   ],
   "source": [
    "#first, we get the offset from our locatl machine\n",
    "get_ntp_offset('185.214.140.14') \n"
   ]
  },
  {
   "cell_type": "markdown",
   "id": "6035fb86",
   "metadata": {},
   "source": [
    "\n",
    "* then, we get the data from RIPE  Atlas measurements reporting offset of +70s\n",
    "* See Marco's Davids comments on the Atlas mailing list: https://mailman.ripe.net/archives/list/ripe-atlas@ripe.net/thread/GEYE6ZH2BECS7VEDEUO5I7JM4DIF3UHK/"
   ]
  },
  {
   "cell_type": "code",
   "execution_count": 18,
   "id": "bee5e87e",
   "metadata": {},
   "outputs": [
    {
     "name": "stdout",
     "output_type": "stream",
     "text": [
      "Downloaded 3 records.\n"
     ]
    }
   ],
   "source": [
    "import requests\n",
    "\n",
    "#let's get measurements reported by Marco Davids on \n",
    "\n",
    "url = \"https://atlas.ripe.net/api/v2/measurements/115803954/results/?format=json\"\n",
    "\n",
    "try:\n",
    "    response = requests.get(url)\n",
    "    response.raise_for_status()  # Raise exception for HTTP errors\n",
    "    data = response.json()       # Parse JSON into a Python dict\n",
    "    print(f\"Downloaded {len(data)} records.\")\n",
    "except requests.RequestException as e:\n",
    "    print(f\"Error downloading data: {e}\")\n",
    "\n",
    "# 'data' now contains the JSON response as a Python dictionary/list\n"
   ]
  },
  {
   "cell_type": "code",
   "execution_count": 34,
   "id": "5c0e21f0",
   "metadata": {},
   "outputs": [],
   "source": [
    "'''\n",
    "offsets are defined in RFC5905:\n",
    "\n",
    " The four most recent timestamps, T1 through T4, are used to compute\n",
    "   the offset of B relative to A\n",
    "\n",
    "   theta = T(B) - T(A) = 1/2 * [(T2-T1) + (T3-T4)]\n",
    "   \n",
    "   \n",
    "   In the case of a stateless server, the protocol can be\n",
    "   simplified.  A stateless server copies T3 and T4 from the client\n",
    "   packet to T1 and T2 of the server packet and tacks on the transmit\n",
    "   timestamp T3 before sending it to the client. \n",
    "      \n",
    "   \n",
    "   \n",
    "'''\n",
    "def calc_offset(res_dict):\n",
    "    \n",
    "    offset=(((res_dict['receive-ts'] - res_dict['origin-ts'])\n",
    "             + (res_dict['transmit-ts'] - res_dict['final-ts'])) / 2)\n",
    "    return offset\n"
   ]
  },
  {
   "cell_type": "code",
   "execution_count": 35,
   "id": "3040951d",
   "metadata": {},
   "outputs": [
    {
     "name": "stdout",
     "output_type": "stream",
     "text": [
      "probe_id,offset\n",
      "1005259 -71.55228471755981\n",
      "1005259 -71.55228662490845\n",
      "1005259 -71.55228686332703\n",
      "1009428 -71.55045318603516\n",
      "1009428 -71.55063533782959\n",
      "1009428 -71.55987024307251\n",
      "6567 -71.55196952819824\n",
      "6567 -71.55212187767029\n",
      "6567 -71.55217170715332\n"
     ]
    }
   ],
   "source": [
    "#let's compute the offset from the measurement data\n",
    "\n",
    "print('probe_id,offset')\n",
    "for k in data:\n",
    "    for x in k['result']:\n",
    "        \n",
    "        offset = calc_offset(x)\n",
    "\n",
    "        print(k['prb_id'], offset)"
   ]
  },
  {
   "cell_type": "code",
   "execution_count": 41,
   "id": "4b35ba0a",
   "metadata": {},
   "outputs": [],
   "source": [
    "# It appears that Atlas is reversing the order of the algorithms.\n",
    "# This behavior does not align with the specification defined in the RFC.\n",
    "\n",
    "#let's write a function which inverts the order of the variables to confirm it\n",
    "\n",
    "def calc_offset_inverted(res_dict):\n",
    "    \n",
    "    offset=(((res_dict['origin-ts'] - res_dict['receive-ts']  )\n",
    "             + (res_dict['final-ts'] - res_dict['transmit-ts']  )) / 2)\n",
    "    return offset"
   ]
  },
  {
   "cell_type": "code",
   "execution_count": 42,
   "id": "aac103a5",
   "metadata": {},
   "outputs": [
    {
     "name": "stdout",
     "output_type": "stream",
     "text": [
      "probe_id,offset\n",
      "1005259 71.55228471755981\n",
      "1005259 71.55228662490845\n",
      "1005259 71.55228686332703\n",
      "1009428 71.55045318603516\n",
      "1009428 71.55063533782959\n",
      "1009428 71.55987024307251\n",
      "6567 71.55196952819824\n",
      "6567 71.55212187767029\n",
      "6567 71.55217170715332\n"
     ]
    }
   ],
   "source": [
    "#let's compute the inverted offset from the measurement data\n",
    "\n",
    "print('probe_id,offset')\n",
    "for k in data:\n",
    "    for x in k['result']:\n",
    "        \n",
    "        offset = calc_offset_inverted(x)\n",
    "\n",
    "        print(k['prb_id'], offset)"
   ]
  }
 ],
 "metadata": {
  "kernelspec": {
   "display_name": "Python 3 (ipykernel)",
   "language": "python",
   "name": "python3"
  },
  "language_info": {
   "codemirror_mode": {
    "name": "ipython",
    "version": 3
   },
   "file_extension": ".py",
   "mimetype": "text/x-python",
   "name": "python",
   "nbconvert_exporter": "python",
   "pygments_lexer": "ipython3",
   "version": "3.12.3"
  }
 },
 "nbformat": 4,
 "nbformat_minor": 5
}
